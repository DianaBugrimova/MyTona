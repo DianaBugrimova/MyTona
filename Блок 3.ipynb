{
 "cells": [
  {
   "cell_type": "markdown",
   "metadata": {},
   "source": [
    "### Описание переменных, которые были введены для подсчета\n",
    "    n - количество дней\n",
    "    ur - уровень\n",
    "    op - количество очков опыта\n",
    "    ye - у.е\n",
    "    ye_p - ячейка для подсчета потраченных у.е\n",
    "    ye_z - ячейка для подсчета заработанных у.е\n",
    "    apple, orange, pear = массивы с указанием уровней, за которые дается награда"
   ]
  },
  {
   "cell_type": "code",
   "execution_count": 91,
   "metadata": {},
   "outputs": [],
   "source": [
    "n,ur=1,1\n",
    "op,ye,ye_p, ye_z,apple,orange,pear=0,0,0,0,0,0,0\n",
    "ur_ap=[2,5,10,15,20,65,90,120,150,180,210,240,270,300,330]\n",
    "ur_or=[3,25,30,35,70,100,130,160,190,220,250,280,310,340]\n",
    "ur_pe=[40,45,50,55,60,80,110,140,170,200,230,260,290,320,350]\n",
    "while n<=50:\n",
    "    op+=100\n",
    "    if n%7==0:\n",
    "        op+=5500\n",
    "    if op>=300:\n",
    "        ur+=op//300\n",
    "        op=op%300\n",
    "    while (ur in ur_ap) or (ur in ur_or) or (ur in ur_pe):\n",
    "        if ur in ur_ap:\n",
    "            apple+=1\n",
    "            ye+=50\n",
    "            ye_z+=50\n",
    "            ur_ap.remove(ur)\n",
    "        if ur in ur_or:\n",
    "            orange+=1\n",
    "            ye+=75\n",
    "            ye_z+=75\n",
    "            ur_or.remove(ur)\n",
    "        if ur in ur_pe:\n",
    "            pear+=1\n",
    "            ye+=130\n",
    "            ye+=130\n",
    "            ur_pe.remove(ur)\n",
    "        while ye>=120:   \n",
    "            if ye>=615:\n",
    "                ur+=24\n",
    "                ye=ye-615\n",
    "                ye_p+=615\n",
    "            else:\n",
    "                if ye>=275:\n",
    "                    ur+=11\n",
    "                    ye=ye-275\n",
    "                    ye_p+=275\n",
    "                else:\n",
    "                    if ye>=120:\n",
    "                        ur+=5\n",
    "                        ye=ye-120\n",
    "                        ye_p+=120\n",
    "    \n",
    "    n+=1"
   ]
  },
  {
   "cell_type": "code",
   "execution_count": 93,
   "metadata": {},
   "outputs": [
    {
     "name": "stdout",
     "output_type": "stream",
     "text": [
      "Игрок достиг 156 уровня\n",
      "Продано 2 яблок, 2 апельсинов и 0 груш\n",
      "Потрачено 240 y.e, заработано 250 y.e\n",
      "Конечной остаток 10 y.e\n"
     ]
    }
   ],
   "source": [
    "print(\"Игрок достиг\" ,ur, \"уровня\")\n",
    "print(\"Продано\", apple, \"яблок,\", orange, \"апельсинов и\", pear, \"груш\")\n",
    "print(\"Потрачено\", ye_p, \"y.e,\", \"заработано\", ye_z, \"y.e\")\n",
    "print(\"Конечной остаток\", ye, \"y.e\")"
   ]
  }
 ],
 "metadata": {
  "kernelspec": {
   "display_name": "Python 3",
   "language": "python",
   "name": "python3"
  },
  "language_info": {
   "codemirror_mode": {
    "name": "ipython",
    "version": 3
   },
   "file_extension": ".py",
   "mimetype": "text/x-python",
   "name": "python",
   "nbconvert_exporter": "python",
   "pygments_lexer": "ipython3",
   "version": "3.7.3"
  }
 },
 "nbformat": 4,
 "nbformat_minor": 2
}
